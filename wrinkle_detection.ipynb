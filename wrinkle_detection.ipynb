{
 "cells": [
  {
   "cell_type": "code",
   "execution_count": 6,
   "id": "1e647922-abc7-421d-ba99-80889a5ff4ee",
   "metadata": {},
   "outputs": [],
   "source": [
    "import tensorflow as tf\n",
    "from tensorflow.keras import layers, models\n",
    "from tensorflow.keras.preprocessing.image import ImageDataGenerator\n",
    "import matplotlib.pyplot as plt\n",
    "from glob import glob\n",
    "import cv2\n",
    "import random\n",
    "import os"
   ]
  },
  {
   "cell_type": "code",
   "execution_count": 8,
   "id": "2132db6c-dc13-4697-9d79-25e15fcf5eac",
   "metadata": {},
   "outputs": [
    {
     "name": "stdout",
     "output_type": "stream",
     "text": [
      "Epoch 1/10\n",
      "7/7 [==============================] - 12s 1s/step - loss: 0.5996 - accuracy: 0.7321 - val_loss: 0.6012 - val_accuracy: 0.7358\n",
      "Epoch 2/10\n",
      "7/7 [==============================] - 8s 1s/step - loss: 0.5818 - accuracy: 0.7608 - val_loss: 0.6719 - val_accuracy: 0.7358\n",
      "Epoch 3/10\n",
      "7/7 [==============================] - 8s 1s/step - loss: 0.5687 - accuracy: 0.7608 - val_loss: 0.5338 - val_accuracy: 0.7358\n",
      "Epoch 4/10\n",
      "7/7 [==============================] - 7s 980ms/step - loss: 0.5274 - accuracy: 0.7608 - val_loss: 0.5096 - val_accuracy: 0.7358\n",
      "Epoch 5/10\n",
      "7/7 [==============================] - 7s 998ms/step - loss: 0.5170 - accuracy: 0.7608 - val_loss: 0.5258 - val_accuracy: 0.7358\n",
      "Epoch 6/10\n",
      "7/7 [==============================] - 7s 1s/step - loss: 0.5436 - accuracy: 0.7608 - val_loss: 0.4949 - val_accuracy: 0.7358\n",
      "Epoch 7/10\n",
      "7/7 [==============================] - 7s 957ms/step - loss: 0.5435 - accuracy: 0.7608 - val_loss: 0.4707 - val_accuracy: 0.7358\n",
      "Epoch 8/10\n",
      "7/7 [==============================] - 7s 1s/step - loss: 0.5267 - accuracy: 0.7608 - val_loss: 0.4809 - val_accuracy: 0.7358\n",
      "Epoch 9/10\n",
      "7/7 [==============================] - 7s 1s/step - loss: 0.5099 - accuracy: 0.7608 - val_loss: 0.5401 - val_accuracy: 0.7358\n",
      "Epoch 10/10\n",
      "7/7 [==============================] - 7s 980ms/step - loss: 0.5270 - accuracy: 0.7608 - val_loss: 0.4835 - val_accuracy: 0.7358\n"
     ]
    },
    {
     "data": {
      "text/plain": [
       "<keras.src.callbacks.History at 0x21c5b34ef10>"
      ]
     },
     "execution_count": 8,
     "metadata": {},
     "output_type": "execute_result"
    }
   ],
   "source": [
    "from tensorflow.keras.utils import Sequence\n",
    "import numpy as np\n",
    "from PIL import Image\n",
    "from sklearn.model_selection import train_test_split\n",
    "class CustomDataGenerator(Sequence):\n",
    "    def __init__(self, file_paths, labels, batch_size, target_size):\n",
    "        self.file_paths = file_paths\n",
    "        self.labels = labels\n",
    "        self.batch_size = batch_size\n",
    "        self.target_size = target_size\n",
    "\n",
    "    def __len__(self):\n",
    "        return int(np.ceil(len(self.file_paths) / self.batch_size))\n",
    "\n",
    "    def __getitem__(self, index):\n",
    "        batch_files = self.file_paths[index * self.batch_size: (index + 1) * self.batch_size]\n",
    "        batch_labels = self.labels[index * self.batch_size: (index + 1) * self.batch_size]\n",
    "\n",
    "        batch_images = [np.array(Image.open(file).resize(self.target_size)) / 255.0 for file in batch_files]\n",
    "\n",
    "        return np.array(batch_images), np.array(batch_labels)\n",
    "\n",
    "\n",
    "wrinkled_dataset_path = 'datasets/train/Wrinkled'\n",
    "non_wrinkled_dataset_path = 'datasets/train/NoWrinkles'\n",
    "\n",
    "\n",
    "wrinkled_files = glob(os.path.join(wrinkled_dataset_path, '*.jpg'))\n",
    "\n",
    "\n",
    "wrinkled_labels = [1] * len(wrinkled_files)\n",
    "\n",
    "\n",
    "non_wrinkled_files = glob(os.path.join(non_wrinkled_dataset_path, '*.jpg'))\n",
    "\n",
    "\n",
    "non_wrinkled_labels = [0] * len(non_wrinkled_files)\n",
    "\n",
    "\n",
    "all_files = wrinkled_files + non_wrinkled_files\n",
    "all_labels = wrinkled_labels + non_wrinkled_labels\n",
    "\n",
    "\n",
    "train_files, val_files, train_labels, val_labels = train_test_split(\n",
    "    all_files, all_labels, test_size=0.2, random_state=42\n",
    ")\n",
    "\n",
    "\n",
    "train_datagen = CustomDataGenerator(train_files, train_labels, batch_size=batch_size, target_size=(128, 128))\n",
    "validation_datagen = CustomDataGenerator(val_files, val_labels, batch_size=batch_size, target_size=(128, 128))\n",
    "\n",
    "\n",
    "model = models.Sequential()\n",
    "\n",
    "model.add(layers.Conv2D(32, (3, 3), activation='relu', input_shape=(128, 128, 3)))\n",
    "model.add(layers.MaxPooling2D((2, 2)))\n",
    "\n",
    "model.add(layers.Conv2D(64, (3, 3), activation='relu'))\n",
    "model.add(layers.MaxPooling2D((2, 2)))\n",
    "\n",
    "model.add(layers.Conv2D(128, (3, 3), activation='relu'))\n",
    "model.add(layers.MaxPooling2D((2, 2)))\n",
    "\n",
    "model.add(layers.Flatten())\n",
    "model.add(layers.Dense(128, activation='relu'))\n",
    "model.add(layers.Dropout(0.5))\n",
    "model.add(layers.Dense(1, activation='sigmoid'))\n",
    "\n",
    "model.compile(optimizer='adam',\n",
    "              loss='binary_crossentropy',\n",
    "              metrics=['accuracy'])\n",
    "model.fit(train_datagen, epochs=10, validation_data=validation_datagen)"
   ]
  },
  {
   "cell_type": "code",
   "execution_count": 9,
   "id": "660171e3-6e81-432f-ab00-34610047a4ed",
   "metadata": {},
   "outputs": [
    {
     "name": "stdout",
     "output_type": "stream",
     "text": [
      "2/2 [==============================] - 1s 167ms/step - loss: 0.4835 - accuracy: 0.7358\n",
      "Validation Accuracy: 73.58%\n"
     ]
    }
   ],
   "source": [
    "eval_result = model.evaluate(validation_datagen)\n",
    "print(f\"Validation Accuracy: {eval_result[1] * 100:.2f}%\")"
   ]
  },
  {
   "cell_type": "code",
   "execution_count": 10,
   "id": "9a8834cf-0ad8-4201-af3f-101f2b0bc8c5",
   "metadata": {},
   "outputs": [
    {
     "name": "stderr",
     "output_type": "stream",
     "text": [
      "C:\\Users\\DELL\\AppData\\Local\\Programs\\Python\\Python311\\Lib\\site-packages\\keras\\src\\engine\\training.py:3000: UserWarning: You are saving your model as an HDF5 file via `model.save()`. This file format is considered legacy. We recommend using instead the native Keras format, e.g. `model.save('my_model.keras')`.\n",
      "  saving_api.save_model(\n"
     ]
    }
   ],
   "source": [
    "model.save('wrinkle_model.h5')"
   ]
  },
  {
   "cell_type": "code",
   "execution_count": 11,
   "id": "a9ffa6db-70ca-4222-87b4-834ba6e1801f",
   "metadata": {},
   "outputs": [
    {
     "name": "stdout",
     "output_type": "stream",
     "text": [
      "Model: \"sequential\"\n",
      "_________________________________________________________________\n",
      " Layer (type)                Output Shape              Param #   \n",
      "=================================================================\n",
      " conv2d (Conv2D)             (None, 126, 126, 32)      896       \n",
      "                                                                 \n",
      " max_pooling2d (MaxPooling2  (None, 63, 63, 32)        0         \n",
      " D)                                                              \n",
      "                                                                 \n",
      " conv2d_1 (Conv2D)           (None, 61, 61, 64)        18496     \n",
      "                                                                 \n",
      " max_pooling2d_1 (MaxPoolin  (None, 30, 30, 64)        0         \n",
      " g2D)                                                            \n",
      "                                                                 \n",
      " conv2d_2 (Conv2D)           (None, 28, 28, 128)       73856     \n",
      "                                                                 \n",
      " max_pooling2d_2 (MaxPoolin  (None, 14, 14, 128)       0         \n",
      " g2D)                                                            \n",
      "                                                                 \n",
      " flatten (Flatten)           (None, 25088)             0         \n",
      "                                                                 \n",
      " dense (Dense)               (None, 128)               3211392   \n",
      "                                                                 \n",
      " dropout (Dropout)           (None, 128)               0         \n",
      "                                                                 \n",
      " dense_1 (Dense)             (None, 1)                 129       \n",
      "                                                                 \n",
      "=================================================================\n",
      "Total params: 3304769 (12.61 MB)\n",
      "Trainable params: 3304769 (12.61 MB)\n",
      "Non-trainable params: 0 (0.00 Byte)\n",
      "_________________________________________________________________\n"
     ]
    }
   ],
   "source": [
    "model.summary()"
   ]
  },
  {
   "cell_type": "code",
   "execution_count": 12,
   "id": "a828930f-d70a-4192-a242-1cac350be02c",
   "metadata": {},
   "outputs": [],
   "source": [
    "model_json = model.to_json()\n",
    "with open(\"wrinkle.json\",\"w\") as json_file:\n",
    "    json_file.write(model_json)"
   ]
  },
  {
   "cell_type": "code",
   "execution_count": null,
   "id": "76e27335-e4de-4eac-8a75-4891cf870093",
   "metadata": {},
   "outputs": [],
   "source": []
  }
 ],
 "metadata": {
  "kernelspec": {
   "display_name": "Python 3 (ipykernel)",
   "language": "python",
   "name": "python3"
  },
  "language_info": {
   "codemirror_mode": {
    "name": "ipython",
    "version": 3
   },
   "file_extension": ".py",
   "mimetype": "text/x-python",
   "name": "python",
   "nbconvert_exporter": "python",
   "pygments_lexer": "ipython3",
   "version": "3.11.5"
  }
 },
 "nbformat": 4,
 "nbformat_minor": 5
}
